{
 "cells": [
  {
   "cell_type": "code",
   "execution_count": null,
   "metadata": {},
   "outputs": [],
   "source": [
    "import pandas as pd\n",
    "\n",
    "# Load X train dataset\n",
    "x_train = pd.read_csv('CompleteDataSet/x_train_all.csv')  \n",
    "\n",
    "summary_stats = x_train.describe()\n",
    "summary_stats"
   ]
  },
  {
   "cell_type": "code",
   "execution_count": null,
   "metadata": {},
   "outputs": [],
   "source": [
    "Shape=x_train.shape\n",
    "Shape"
   ]
  },
  {
   "cell_type": "code",
   "execution_count": null,
   "metadata": {},
   "outputs": [],
   "source": [
    "x_train.isnull().sum()\n"
   ]
  },
  {
   "cell_type": "code",
   "execution_count": null,
   "metadata": {},
   "outputs": [],
   "source": [
    "x_train['0']\n"
   ]
  },
  {
   "cell_type": "code",
   "execution_count": null,
   "metadata": {},
   "outputs": [],
   "source": [
    "y_train=pd.read_csv('CompleteDataSet/y_train_all.csv')\n",
    "y_train.head()"
   ]
  },
  {
   "cell_type": "code",
   "execution_count": null,
   "metadata": {},
   "outputs": [],
   "source": [
    "# Z normalization\n",
    "mean=x_train.mean()\n",
    "std=x_train.std()\n",
    "x_train_norm=(x_train-mean)/std"
   ]
  },
  {
   "cell_type": "code",
   "execution_count": null,
   "metadata": {},
   "outputs": [],
   "source": [
    "y_train.rename(columns={'0': 'label'},inplace=True)\n"
   ]
  },
  {
   "cell_type": "code",
   "execution_count": null,
   "metadata": {},
   "outputs": [],
   "source": [
    "merged_df=pd.concat([x_train,y_train],axis=1)"
   ]
  },
  {
   "cell_type": "code",
   "execution_count": null,
   "metadata": {},
   "outputs": [],
   "source": [
    "merged_df_norm=pd.concat([x_train_norm,y_train],axis=1)\n",
    "merged_df_norm.head()"
   ]
  },
  {
   "cell_type": "code",
   "execution_count": null,
   "metadata": {},
   "outputs": [],
   "source": [
    "import matplotlib.pyplot as plt\n",
    "\n",
    "sample_features = x_train_norm.sample(n=200, axis=1)  \n",
    "sample_features.boxplot()\n",
    "plt.show()"
   ]
  },
  {
   "cell_type": "code",
   "execution_count": null,
   "metadata": {},
   "outputs": [],
   "source": [
    "# import seaborn\n",
    "# import matplotlib.pyplot as plot\n",
    "# correlation_matrix = x_train.corr()\n",
    "\n",
    "# plot.figure(figsize=(9, 5))\n",
    "# heatmap = seaborn.heatmap(correlation_matrix, annot=True, cmap=\"coolwarm\")\n",
    "# heatmap.set(xlabel=\"\", ylabel=\"\")\n",
    "# heatmap.xaxis.tick_top()\n",
    "# plot.title(\"Correlation Matrix\")\n",
    "# plot.show()"
   ]
  },
  {
   "cell_type": "code",
   "execution_count": null,
   "metadata": {},
   "outputs": [],
   "source": [
    "import matplotlib.pyplot as plt\n",
    "\n",
    "# Assuming x_train is your DataFrame with 2034 features\n",
    "sample_features = x_train.sample(n=20, axis=1)  # Sample 10 features\n",
    "sample_features.boxplot()\n",
    "plt.show()\n"
   ]
  },
  {
   "cell_type": "code",
   "execution_count": null,
   "metadata": {},
   "outputs": [],
   "source": [
    "import pandas as pd\n",
    "\n",
    "# Load X train dataset\n",
    "# x_train = pd.read_csv('x_train.csv')  # Replace with your actual file path\n",
    "\n",
    "# Calculate the first and third quartiles\n",
    "Q1 = x_train.quantile(0.25)\n",
    "Q3 = x_train.quantile(0.75)\n",
    "\n",
    "# Calculate the interquartile range (IQR)\n",
    "IQR = Q3 - Q1\n",
    "\n",
    "# Define lower and upper bounds for outlier detection\n",
    "lower_bound = Q1 - 1.5 * IQR\n",
    "upper_bound = Q3 + 1.5 * IQR\n",
    "\n",
    "# Remove outliers\n",
    "x_train_no_outliers = x_train[((x_train >= lower_bound) & (x_train <= upper_bound)).all(axis=1)]\n",
    "\n",
    "# Display the shape of the dataset before and after removing outliers\n",
    "print(f'Shape before removing outliers: {x_train.shape}')\n",
    "print(f'Shape after removing outliers: {x_train_no_outliers.shape}')\n"
   ]
  },
  {
   "cell_type": "code",
   "execution_count": null,
   "metadata": {},
   "outputs": [],
   "source": [
    "x_train_no_outliers.head()"
   ]
  },
  {
   "cell_type": "code",
   "execution_count": null,
   "metadata": {},
   "outputs": [],
   "source": [
    "# import pandas as pd\n",
    "# import matplotlib.pyplot as plt\n",
    "\n",
    "# # Load X train dataset\n",
    "# x_train = pd.read_csv('CompleteDataSet/x_train_all.csv')  # Replace with your actual file path\n",
    "\n",
    "# # Create box plots\n",
    "# plt.figure(figsize=(10, 6))\n",
    "# plt.boxplot(x_train.values, vert=False, labels=x_train.columns[1])\n",
    "# plt.title('Box Plots for X Train Dataset')\n",
    "# plt.xlabel('Pixel Value')\n",
    "# plt.ylabel('Features')\n",
    "# plt.show()\n"
   ]
  }
 ],
 "metadata": {
  "language_info": {
   "name": "python"
  }
 },
 "nbformat": 4,
 "nbformat_minor": 2
}
